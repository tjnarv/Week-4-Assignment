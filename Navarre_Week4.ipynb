{
 "cells": [
  {
   "cell_type": "markdown",
   "id": "b2b416b7-914d-4f69-9ab8-81dd9d8664bb",
   "metadata": {},
   "source": [
    "<H1>My Jupyter Notebook on IBM Watson Studio </H1>"
   ]
  },
  {
   "cell_type": "markdown",
   "id": "73182e5f-e257-4bba-9a39-294b25ecb750",
   "metadata": {},
   "source": [
    "**Tami Navarre**\n",
    "\n",
    "IT Tech"
   ]
  },
  {
   "cell_type": "markdown",
   "id": "60548995-6c60-4eaf-971a-759603dc417d",
   "metadata": {},
   "source": [
    "*I am interested in data science because I'm hoping to pursue a career in Data Science.  I thoroughly enjoy working with data, ETL and writing SQL.*"
   ]
  },
  {
   "cell_type": "markdown",
   "id": "f2fca6dc-5a8d-424d-a8e1-883fc53dbb4c",
   "metadata": {},
   "source": [
    "<H3>The following code displays addition of 1 + 1.</H3>"
   ]
  },
  {
   "cell_type": "code",
   "execution_count": 4,
   "id": "36162155-46cd-427c-9b21-f8901acf4202",
   "metadata": {},
   "outputs": [
    {
     "data": {
      "text/plain": [
       "2"
      ]
     },
     "execution_count": 4,
     "metadata": {},
     "output_type": "execute_result"
    }
   ],
   "source": [
    "1+1"
   ]
  },
  {
   "cell_type": "markdown",
   "id": "a23304b4-7192-4d05-933e-3f10a1c01136",
   "metadata": {},
   "source": [
    "~~Strikethrough~~\n",
    "\n",
    "Column 1 | Column 2| Column 3\n",
    " --- |:---:|---:\n",
    "Row 1 Cell 1|Row 1 Cell 2|Row 1 Cell 3\n",
    "Row 2 Cell 1|Row 2 Cell 2|Row 2 Cell 3\n",
    "Row 3 Cell 1|Row 3 Cell 2|Row 3 Cell 3\n",
    "\n",
    "  + One\n",
    "  + Two\n",
    "  + Three"
   ]
  },
  {
   "cell_type": "markdown",
   "id": "620a95ad-3374-4c05-9f82-cd8d7577bccd",
   "metadata": {},
   "source": []
  },
  {
   "cell_type": "code",
   "execution_count": null,
   "id": "2bd629a9-080b-4461-bd36-f6f8914e7b5c",
   "metadata": {},
   "outputs": [],
   "source": []
  }
 ],
 "metadata": {
  "kernelspec": {
   "display_name": "Python",
   "language": "python",
   "name": "conda-env-python-py"
  },
  "language_info": {
   "codemirror_mode": {
    "name": "ipython",
    "version": 3
   },
   "file_extension": ".py",
   "mimetype": "text/x-python",
   "name": "python",
   "nbconvert_exporter": "python",
   "pygments_lexer": "ipython3",
   "version": "3.6.13"
  }
 },
 "nbformat": 4,
 "nbformat_minor": 5
}
